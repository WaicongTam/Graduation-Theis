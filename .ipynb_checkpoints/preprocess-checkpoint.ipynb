{
 "cells": [
  {
   "cell_type": "code",
   "execution_count": null,
   "metadata": {},
   "outputs": [],
   "source": [
    "import numpy as np\n",
    "import pandas as pd"
   ]
  },
  {
   "cell_type": "code",
   "execution_count": null,
   "metadata": {},
   "outputs": [],
   "source": [
    "data=pd.read_excel(\"data_raw.xlsx\")"
   ]
  },
  {
   "cell_type": "code",
   "execution_count": null,
   "metadata": {},
   "outputs": [],
   "source": [
    "data['Tbar']=[i/1.15/1.05 for i in data['TP']]"
   ]
  },
  {
   "cell_type": "code",
   "execution_count": null,
   "metadata": {},
   "outputs": [],
   "source": [
    "data_preprocessed=data[['CCYYMM','DDHHmm','TP','Tbar','HS','DMDIR']]"
   ]
  },
  {
   "cell_type": "code",
   "execution_count": null,
   "metadata": {},
   "outputs": [],
   "source": [
    "time_ym=[str(i) for i in data_preprocessed['CCYYMM']]\n",
    "time_dh=[str(i) for i in data_preprocessed['DDHHmm']]\n",
    "for i in range(len(time_dh)):\n",
    "    if len(time_dh[i])==5:\n",
    "        time_dh[i]='0'+time_dh[i]\n",
    "time_concat=pd.Series([time_ym[i]+time_dh[i] for i in range(len(time_ym))])\n",
    "data_preprocessed.insert(loc=0, column='Time', value=time_concat)"
   ]
  },
  {
   "cell_type": "code",
   "execution_count": null,
   "metadata": {},
   "outputs": [],
   "source": [
    "dir_tran=[i for i in data_preprocessed['DMDIR']]\n",
    "for i in dir_tran:\n",
    "    if i>345.75:\n",
    "        i-=360\n",
    "dir_tran"
   ]
  },
  {
   "cell_type": "code",
   "execution_count": null,
   "metadata": {},
   "outputs": [],
   "source": [
    "with pd.ExcelWriter('data_preprocessed.xlsx') as writer:\n",
    "    data_preprocessed.to_excel(writer,sheet_name='Sheet 1')"
   ]
  }
 ],
 "metadata": {
  "kernelspec": {
   "display_name": "Python 3",
   "language": "python",
   "name": "python3"
  },
  "language_info": {
   "codemirror_mode": {
    "name": "ipython",
    "version": 3
   },
   "file_extension": ".py",
   "mimetype": "text/x-python",
   "name": "python",
   "nbconvert_exporter": "python",
   "pygments_lexer": "ipython3",
   "version": "3.6.4"
  }
 },
 "nbformat": 4,
 "nbformat_minor": 2
}
